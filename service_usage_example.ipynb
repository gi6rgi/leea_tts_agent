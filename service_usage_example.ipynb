{
 "cells": [
  {
   "cell_type": "code",
   "execution_count": 1,
   "metadata": {},
   "outputs": [
    {
     "name": "stdout",
     "output_type": "stream",
     "text": [
      "[2025-02-05 13:46:54] INFO     - Received text-to-speech request. Text: 'Hello, Leea Labs!' with voice ID: 'JBFqnCBsd6RMkjVDRZzb'\n"
     ]
    }
   ],
   "source": [
    "from elevenlabs.client import ElevenLabs\n",
    "\n",
    "from app.tts_service import TTSService\n",
    "from app.settings import settings\n",
    "\n",
    "\n",
    "tts_client = ElevenLabs(api_key=settings.eleven_labs_api_key)\n",
    "service = TTSService(client=tts_client)\n",
    "\n",
    "audio_bytes = b\"\"\n",
    "async for chunk in service.text_to_speech(\"Hello, Leea Labs!\"):\n",
    "    audio_bytes += chunk\n",
    "\n",
    "with open(\"output_audio.wav\", \"wb\") as audio_file:\n",
    "    audio_file.write(audio_bytes)\n"
   ]
  }
 ],
 "metadata": {
  "kernelspec": {
   "display_name": ".venv",
   "language": "python",
   "name": "python3"
  },
  "language_info": {
   "codemirror_mode": {
    "name": "ipython",
    "version": 3
   },
   "file_extension": ".py",
   "mimetype": "text/x-python",
   "name": "python",
   "nbconvert_exporter": "python",
   "pygments_lexer": "ipython3",
   "version": "3.12.7"
  }
 },
 "nbformat": 4,
 "nbformat_minor": 2
}
